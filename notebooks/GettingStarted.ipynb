{
 "cells": [
  {
   "cell_type": "code",
   "execution_count": null,
   "metadata": {},
   "outputs": [],
   "source": [
    "import logging\n",
    "logging.basicConfig(level=logging.DEBUG)"
   ]
  },
  {
   "attachments": {
    "image.png": {
     "image/png": "[encoded data removed]"
    }
   },
   "cell_type": "markdown",
   "metadata": {},
   "source": [
    "![image.png](attachment:image.png)\n",
    "\n",
    "Baobao is a small library that attempts writing and maintaining data pipelines easier. It was written with Pandas in mind, but is not limited to it or even depends on it. It's AIP closely models Pandas pipe functionality.\n",
    "\n",
    "Design principles are:\n",
    "- Simple in the core\n",
    "- Minimal dependencies\n",
    "- Additional functionality is optional\n",
    "\n",
    "Pipelines can be build like this:"
   ]
  },
  {
   "cell_type": "code",
   "execution_count": null,
   "metadata": {},
   "outputs": [],
   "source": [
    "import pandas as pd\n",
    "from baobao import Pipeline  # To define pipelines\n",
    "from baobao import Step  # Pipelines are build from Steps which may contain Pipelines\n",
    "\n",
    "# some functions that return pd.Dataframes to play with\n",
    "from baobao.utils.examples import load_1, load_2, load_3\n",
    "\n",
    "Pipeline(\n",
    "    root_node=load_1,  # We have to start somewhere, could be any object or callable\n",
    "    pipeline=(  # Pipelines are build from Steps\n",
    "        Step(\n",
    "            # Each Step is build from a function that takes \n",
    "            # the output of the previous Step as input in \n",
    "            # the first argument\n",
    "            func=pd.merge,\n",
    "            # Any argoments to [func] can be given\n",
    "            left_index=True, right_index=True,\n",
    "            right=Pipeline(load_2),  # including additional Pipelines\n",
    "        ),\n",
    "        Step(func=pd.merge, right=Pipeline(load_3), left_index=True, right_index=True),\n",
    "    )\n",
    ").run()  # Call the run method to actually run the pipeline, enjoy some logging out of the box"
   ]
  },
  {
   "cell_type": "markdown",
   "metadata": {},
   "source": [
    "A neat way of speeding this up is caching results to disk:"
   ]
  },
  {
   "cell_type": "code",
   "execution_count": null,
   "metadata": {},
   "outputs": [],
   "source": [
    "# Baobao doesn't depend on any caching but respects Joblibs\n",
    "# API in case you want to chose some other caching strategy\n",
    "from joblib import Memory\n",
    "\n",
    "# Baobao options are separated into a dedicated object in\n",
    "# order to make it simple to push options down to Pipelines\n",
    "# included in Steps of the root Pipeline\n",
    "from baobao import PipelineOpts\n",
    "\n",
    "# Define the pipeline:\n",
    "pipeline = Pipeline(\n",
    "    root_node=load_1,\n",
    "    opts=PipelineOpts(\n",
    "        memory=Memory(\"./cache\", verbose=0),\n",
    "        push_options=True  # Pushing options down to included Pipelines\n",
    "    ),\n",
    "    pipeline=(\n",
    "        Step(func=pd.merge, right=Pipeline(load_2), left_index=True, right_index=True),\n",
    "        Step(func=pd.merge, right=Pipeline(load_3), left_index=True, right_index=True),\n",
    "    )\n",
    ")\n",
    "# Run the pipeline:\n",
    "pipeline.run()"
   ]
  },
  {
   "cell_type": "markdown",
   "metadata": {},
   "source": [
    "Reasoning over pipelines might be simpler with this printing utility:"
   ]
  },
  {
   "cell_type": "code",
   "execution_count": null,
   "metadata": {},
   "outputs": [],
   "source": [
    "from baobao.utils import print_pipeline\n",
    "print_pipeline(pipeline)"
   ]
  },
  {
   "cell_type": "markdown",
   "metadata": {},
   "source": [
    "Printing can be adjusted using the multiple dispatch pattern:"
   ]
  },
  {
   "cell_type": "code",
   "execution_count": null,
   "metadata": {},
   "outputs": [],
   "source": [
    "from baobao.pipeline import str_\n",
    "@str_.register\n",
    "def _(inp: pd.DataFrame):\n",
    "    return f\"DataFrame(shape:{inp.shape})\"\n",
    "@str_.register\n",
    "def _(inp: bool):\n",
    "    return f\"Bool:{inp}\"\n",
    "\n",
    "print_pipeline(pipeline)"
   ]
  },
  {
   "cell_type": "markdown",
   "metadata": {},
   "source": [
    "A little more depth added:"
   ]
  },
  {
   "cell_type": "code",
   "execution_count": null,
   "metadata": {},
   "outputs": [],
   "source": [
    "from baobao.utils.examples import *  # Import more load_X functions\n",
    "\n",
    "def mk_pipeline():  # get fresh pipeline each time we call this function\n",
    "    return Pipeline(\n",
    "        root_node=load_1,\n",
    "        opts=PipelineOpts(\n",
    "            memory=None,#Memory(\"./cache\", verbose=0),\n",
    "            push_options=True\n",
    "        ),\n",
    "        pipeline=(\n",
    "            Step(func=pd.merge, left_index=True, right_index=True, right=Pipeline(load_2)),\n",
    "            Step(func=pd.merge, left_index=True, right_index=True, right=Pipeline(\n",
    "                root_node=load_3,\n",
    "                pipeline=(\n",
    "                    Step(func=pd.merge, left_index=True, right_index=True, right=Pipeline(load_4)),\n",
    "                    Step(func=pd.merge, left_index=True, right_index=True, right=Pipeline(\n",
    "                        root_node=load_2,\n",
    "                        pipeline=(\n",
    "                            Step(func=pd.merge, left_index=True, right_index=True, right=Pipeline(load_5)),\n",
    "                            Step(func=pd.merge, left_index=True, right_index=True, right=Pipeline(load_6)),\n",
    "                        )\n",
    "                    )),\n",
    "                ))\n",
    "                ),\n",
    "            Step(func=pd.merge, left_index=True, right_index=True, right=Pipeline(load_5)),\n",
    "        )\n",
    "    )"
   ]
  },
  {
   "cell_type": "markdown",
   "metadata": {},
   "source": [
    "Lets print this one again:"
   ]
  },
  {
   "cell_type": "code",
   "execution_count": null,
   "metadata": {},
   "outputs": [],
   "source": [
    "print_pipeline(mk_pipeline())"
   ]
  },
  {
   "cell_type": "markdown",
   "metadata": {},
   "source": [
    "and run it in a sequential manner:"
   ]
  },
  {
   "cell_type": "code",
   "execution_count": null,
   "metadata": {},
   "outputs": [],
   "source": [
    "mk_pipeline().run()"
   ]
  },
  {
   "cell_type": "markdown",
   "metadata": {},
   "source": [
    "We can speed things up by submitting those pipelines that do not contain further pipelines to a multiprocess Pool and enjoy some nice speedups:"
   ]
  },
  {
   "cell_type": "code",
   "execution_count": null,
   "metadata": {},
   "outputs": [],
   "source": [
    "from baobao.utils import run_parallel\n",
    "\n",
    "run_parallel(mk_pipeline(), n_jobs=4)"
   ]
  }
 ],
 "metadata": {
  "kernelspec": {
   "display_name": "Python 3",
   "language": "python",
   "name": "python3"
  },
  "language_info": {
   "codemirror_mode": {
    "name": "ipython",
    "version": 3
   },
   "file_extension": ".py",
   "mimetype": "text/x-python",
   "name": "python",
   "nbconvert_exporter": "python",
   "pygments_lexer": "ipython3",
   "version": "3.8.1"
  }
 },
 "nbformat": 4,
 "nbformat_minor": 4
}
